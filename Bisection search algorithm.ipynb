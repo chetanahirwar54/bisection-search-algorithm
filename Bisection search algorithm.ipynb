{
 "cells": [
  {
   "cell_type": "markdown",
   "metadata": {},
   "source": [
    "# Bisection search algorithm"
   ]
  },
  {
   "cell_type": "code",
   "execution_count": 1,
   "metadata": {},
   "outputs": [],
   "source": [
    "def bisect_search(l, e):\n",
    "    def bisect_search_helper(l,e, low, high):\n",
    "        if low == high:\n",
    "            return l[low] == e\n",
    "        mid = (low + high)//2\n",
    "        if(l[mid] == e):\n",
    "            return True\n",
    "        elif(l[mid]>e):\n",
    "            if low==mid: #nothing left to search\n",
    "                return False\n",
    "            else:\n",
    "                return bisect_search_helper(l, e, low, mid-1)            \n",
    "        else:\n",
    "            return bisect_search_helper(l, e, mid+1, high)\n",
    "    \n",
    "    if len(l) == 0:\n",
    "        return False\n",
    "    else:\n",
    "        return bisect_search_helper(l, e, 0, len(l)-1)"
   ]
  },
  {
   "cell_type": "code",
   "execution_count": 2,
   "metadata": {},
   "outputs": [
    {
     "name": "stdout",
     "output_type": "stream",
     "text": [
      "True\n"
     ]
    }
   ],
   "source": [
    "l = [10, 20, 34, 45, 50, 67, 89, 90, 100]\n",
    "e = 67\n",
    "print(bisect_search(l,e))"
   ]
  },
  {
   "cell_type": "markdown",
   "metadata": {},
   "source": [
    "### Visualize the code:\n",
    "http://pythontutor.com/visualize.html#code=def%20bisect_search%28l,%20e%29%3A%0A%20%20%20%20def%20bisect_search_helper%28l,e,%20low,%20high%29%3A%0A%20%20%20%20%20%20%20%20if%20low%20%3D%3D%20high%3A%0A%20%20%20%20%20%20%20%20%20%20%20%20return%20l%5Blow%5D%20%3D%3D%20e%0A%20%20%20%20%20%20%20%20mid%20%3D%20%28low%20%2B%20high%29//2%0A%20%20%20%20%20%20%20%20if%28l%5Bmid%5D%20%3D%3D%20e%29%3A%0A%20%20%20%20%20%20%20%20%20%20%20%20return%20True%0A%20%20%20%20%20%20%20%20elif%28l%5Bmid%5D%3Ee%29%3A%0A%20%20%20%20%20%20%20%20%20%20%20%20if%20low%3D%3Dmid%3A%20%23nothing%20left%20to%20search%0A%20%20%20%20%20%20%20%20%20%20%20%20%20%20%20%20return%20False%0A%20%20%20%20%20%20%20%20%20%20%20%20else%3A%0A%20%20%20%20%20%20%20%20%20%20%20%20%20%20%20%20return%20bisect_search_helper%28l,%20e,%20low,%20mid-1%29%20%20%20%20%20%20%20%20%20%20%20%20%0A%20%20%20%20%20%20%20%20else%3A%0A%20%20%20%20%20%20%20%20%20%20%20%20return%20bisect_search_helper%28l,%20e,%20mid%2B1,%20high%29%0A%20%20%20%20%0A%20%20%20%20if%20len%28l%29%20%3D%3D%200%3A%0A%20%20%20%20%20%20%20%20return%20False%0A%20%20%20%20else%3A%0A%20%20%20%20%20%20%20%20return%20bisect_search_helper%28l,%20e,%200,%20len%28l%29-1%29%0A%0Al%20%3D%20%5B10,%2020,%2034,%2045,%2050,%2067,%2089,%2090,%20100%5D%0Ae%20%3D%2067%0Aprint%28bisect_search%28l,e%29%29&cumulative=false&curInstr=24&heapPrimitives=nevernest&mode=display&origin=opt-frontend.js&py=3&rawInputLstJSON=%5B%5D&textReferences=false"
   ]
  },
  {
   "cell_type": "code",
   "execution_count": null,
   "metadata": {},
   "outputs": [],
   "source": []
  }
 ],
 "metadata": {
  "kernelspec": {
   "display_name": "Python 3",
   "language": "python",
   "name": "python3"
  },
  "language_info": {
   "codemirror_mode": {
    "name": "ipython",
    "version": 3
   },
   "file_extension": ".py",
   "mimetype": "text/x-python",
   "name": "python",
   "nbconvert_exporter": "python",
   "pygments_lexer": "ipython3",
   "version": "3.7.3"
  }
 },
 "nbformat": 4,
 "nbformat_minor": 2
}
